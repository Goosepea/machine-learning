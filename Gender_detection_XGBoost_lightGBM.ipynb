{
  "nbformat": 4,
  "nbformat_minor": 0,
  "metadata": {
    "colab": {
      "name": "Gender_detection_XGBoost_lightGBM.ipynb",
      "provenance": [],
      "authorship_tag": "ABX9TyPjqutRMgO7p5mPPEcIfpH4",
      "include_colab_link": true
    },
    "kernelspec": {
      "name": "python3",
      "display_name": "Python 3"
    },
    "accelerator": "TPU"
  },
  "cells": [
    {
      "cell_type": "markdown",
      "metadata": {
        "id": "view-in-github",
        "colab_type": "text"
      },
      "source": [
        "<a href=\"https://colab.research.google.com/github/yinma-ml/machine-learning/blob/master/Gender_detection_XGBoost_lightGBM.ipynb\" target=\"_parent\"><img src=\"https://colab.research.google.com/assets/colab-badge.svg\" alt=\"Open In Colab\"/></a>"
      ]
    },
    {
      "cell_type": "code",
      "metadata": {
        "id": "WGP2Bjo2GXYP",
        "colab_type": "code",
        "colab": {}
      },
      "source": [
        "## Gender dectection based on human speech"
      ],
      "execution_count": 9,
      "outputs": []
    },
    {
      "cell_type": "markdown",
      "metadata": {
        "id": "okoEghVhJacq",
        "colab_type": "text"
      },
      "source": [
        "**XGBoost**"
      ]
    },
    {
      "cell_type": "code",
      "metadata": {
        "id": "5VULpOP0GyiZ",
        "colab_type": "code",
        "colab": {}
      },
      "source": [
        "import pandas as pd\n",
        "from sklearn.preprocessing import LabelEncoder, StandardScaler, MinMaxScaler\n",
        "from sklearn.model_selection import train_test_split\n",
        "from sklearn import metrics\n",
        "from sklearn.linear_model.logistic import LogisticRegression\n",
        "from xgboost import XGBClassifier\n",
        "#import catboost as cb"
      ],
      "execution_count": 10,
      "outputs": []
    },
    {
      "cell_type": "code",
      "metadata": {
        "id": "_iXN_QtQItId",
        "colab_type": "code",
        "colab": {}
      },
      "source": [
        "data = pd.read_csv('/voice.csv')  #3168 rows × 21 columns"
      ],
      "execution_count": 11,
      "outputs": []
    },
    {
      "cell_type": "code",
      "metadata": {
        "id": "0420NtPRG5rM",
        "colab_type": "code",
        "colab": {
          "base_uri": "https://localhost:8080/",
          "height": 557
        },
        "outputId": "055d71a8-ec0b-41cc-abde-372078ff9bb8"
      },
      "source": [
        "print(data.head())\n",
        "print(data.isnull().sum())  #no null value"
      ],
      "execution_count": 12,
      "outputs": [
        {
          "output_type": "stream",
          "text": [
            "   meanfreq        sd    median       Q25  ...    maxdom   dfrange   modindx  label\n",
            "0  0.059781  0.064241  0.032027  0.015071  ...  0.007812  0.000000  0.000000   male\n",
            "1  0.066009  0.067310  0.040229  0.019414  ...  0.054688  0.046875  0.052632   male\n",
            "2  0.077316  0.083829  0.036718  0.008701  ...  0.015625  0.007812  0.046512   male\n",
            "3  0.151228  0.072111  0.158011  0.096582  ...  0.562500  0.554688  0.247119   male\n",
            "4  0.135120  0.079146  0.124656  0.078720  ...  5.484375  5.476562  0.208274   male\n",
            "\n",
            "[5 rows x 21 columns]\n",
            "meanfreq    0\n",
            "sd          0\n",
            "median      0\n",
            "Q25         0\n",
            "Q75         0\n",
            "IQR         0\n",
            "skew        0\n",
            "kurt        0\n",
            "sp.ent      0\n",
            "sfm         0\n",
            "mode        0\n",
            "centroid    0\n",
            "meanfun     0\n",
            "minfun      0\n",
            "maxfun      0\n",
            "meandom     0\n",
            "mindom      0\n",
            "maxdom      0\n",
            "dfrange     0\n",
            "modindx     0\n",
            "label       0\n",
            "dtype: int64\n"
          ],
          "name": "stdout"
        }
      ]
    },
    {
      "cell_type": "code",
      "metadata": {
        "id": "HbvKvd2MHoUr",
        "colab_type": "code",
        "colab": {
          "base_uri": "https://localhost:8080/",
          "height": 69
        },
        "outputId": "24348ea3-adee-4ea0-96de-59b96d4fa5db"
      },
      "source": [
        "print('sample:{}'.format(data.shape[0]))\n",
        "print('male：{}'.format(data[data.label=='male'].shape[0]))\n",
        "print('female：{}'.format(data[data.label=='female'].shape[0]))"
      ],
      "execution_count": 13,
      "outputs": [
        {
          "output_type": "stream",
          "text": [
            "sample:3168\n",
            "male：1584\n",
            "female：1584\n"
          ],
          "name": "stdout"
        }
      ]
    },
    {
      "cell_type": "code",
      "metadata": {
        "id": "8VeTEFncIB8f",
        "colab_type": "code",
        "colab": {
          "base_uri": "https://localhost:8080/",
          "height": 488
        },
        "outputId": "ee314711-62a8-43a1-c66c-c798a3c144e3"
      },
      "source": [
        "X = data.iloc[:,:-1]  #everything except the last column\n",
        "y = data.iloc[:,-1]\n",
        "print(X.head)\n",
        "print(y.head)"
      ],
      "execution_count": 14,
      "outputs": [
        {
          "output_type": "stream",
          "text": [
            "<bound method NDFrame.head of       meanfreq        sd    median  ...    maxdom   dfrange   modindx\n",
            "0     0.059781  0.064241  0.032027  ...  0.007812  0.000000  0.000000\n",
            "1     0.066009  0.067310  0.040229  ...  0.054688  0.046875  0.052632\n",
            "2     0.077316  0.083829  0.036718  ...  0.015625  0.007812  0.046512\n",
            "3     0.151228  0.072111  0.158011  ...  0.562500  0.554688  0.247119\n",
            "4     0.135120  0.079146  0.124656  ...  5.484375  5.476562  0.208274\n",
            "...        ...       ...       ...  ...       ...       ...       ...\n",
            "3163  0.131884  0.084734  0.153707  ...  4.210938  4.203125  0.161929\n",
            "3164  0.116221  0.089221  0.076758  ...  3.679688  3.640625  0.277897\n",
            "3165  0.142056  0.095798  0.183731  ...  2.937500  2.929688  0.194759\n",
            "3166  0.143659  0.090628  0.184976  ...  3.593750  3.585938  0.311002\n",
            "3167  0.165509  0.092884  0.183044  ...  0.554688  0.546875  0.350000\n",
            "\n",
            "[3168 rows x 20 columns]>\n",
            "<bound method NDFrame.head of 0         male\n",
            "1         male\n",
            "2         male\n",
            "3         male\n",
            "4         male\n",
            "         ...  \n",
            "3163    female\n",
            "3164    female\n",
            "3165    female\n",
            "3166    female\n",
            "3167    female\n",
            "Name: label, Length: 3168, dtype: object>\n"
          ],
          "name": "stdout"
        }
      ]
    },
    {
      "cell_type": "code",
      "metadata": {
        "id": "VtVvgfr6IWD5",
        "colab_type": "code",
        "colab": {
          "base_uri": "https://localhost:8080/",
          "height": 35
        },
        "outputId": "d3623c03-2f17-436a-a9dc-705535a2b1ce"
      },
      "source": [
        "# \n",
        "lbe = LabelEncoder()\n",
        "y = lbe.fit_transform(y)\n",
        "print(y)\n"
      ],
      "execution_count": 15,
      "outputs": [
        {
          "output_type": "stream",
          "text": [
            "[1 1 1 ... 0 0 0]\n"
          ],
          "name": "stdout"
        }
      ]
    },
    {
      "cell_type": "code",
      "metadata": {
        "id": "v99QlqANI5Ui",
        "colab_type": "code",
        "colab": {
          "base_uri": "https://localhost:8080/",
          "height": 243
        },
        "outputId": "f3842c0d-42ac-4188-db96-4a83e6cf8339"
      },
      "source": [
        "# normalization\n",
        "scaler = StandardScaler()\n",
        "X = scaler.fit_transform(X)\n",
        "print(X)"
      ],
      "execution_count": 16,
      "outputs": [
        {
          "output_type": "stream",
          "text": [
            "[[-4.04924806  0.4273553  -4.22490077 ... -1.43142165 -1.41913712\n",
            "  -1.45477229]\n",
            " [-3.84105325  0.6116695  -3.99929342 ... -1.41810716 -1.4058184\n",
            "  -1.01410294]\n",
            " [-3.46306647  1.60384791 -4.09585052 ... -1.42920257 -1.41691733\n",
            "  -1.06534356]\n",
            " ...\n",
            " [-1.29877326  2.32272355 -0.05197279 ... -0.5992661  -0.58671739\n",
            "   0.17588664]\n",
            " [-1.2452018   2.012196   -0.01772849 ... -0.41286326 -0.40025537\n",
            "   1.14916112]\n",
            " [-0.51474626  2.14765111 -0.07087873 ... -1.27608595 -1.2637521\n",
            "   1.47567886]]\n"
          ],
          "name": "stdout"
        }
      ]
    },
    {
      "cell_type": "code",
      "metadata": {
        "id": "fzgq9sjhJD15",
        "colab_type": "code",
        "colab": {}
      },
      "source": [
        "# split train test sets, test size=0.1\n",
        "X_train, X_test = train_test_split(X, test_size=0.1)\n",
        "y_train, y_test = train_test_split(y, test_size=0.1)\n",
        "# X_train, X_test, y_train, y_test = train_test_split(X, y, test_size=0.2,random_seed=0.3)"
      ],
      "execution_count": 17,
      "outputs": []
    },
    {
      "cell_type": "code",
      "metadata": {
        "id": "S-1BCpC4JzLS",
        "colab_type": "code",
        "colab": {}
      },
      "source": [
        "## XGBoost (from sklearn)"
      ],
      "execution_count": 18,
      "outputs": []
    },
    {
      "cell_type": "code",
      "metadata": {
        "id": "vZj0asQAJlNT",
        "colab_type": "code",
        "colab": {
          "base_uri": "https://localhost:8080/",
          "height": 139
        },
        "outputId": "7944e4f3-3002-4c31-e4b8-d0f4b200d642"
      },
      "source": [
        "model = XGBClassifier(booster='gbtree',     #Can be gbtree, gblinear or dart; gbtree and dart use tree based models while gblinear uses linear functions.\n",
        "                      objective='binary:logistic',\n",
        "                      learning_rate=0.01,   # default=0.3\n",
        "                      n_estimators=10,      # number of trees-10 trees for xgboost\n",
        "                      max_depth=4,          # default=6, Maximum depth of a tree. Increasing this value will make the model more complex and more likely to overfit.\n",
        "                      min_child_weight=1,   # default=1, Minimum sum of instance weight (hessian) needed in a child.The larger min_child_weight is, the more conservative the algorithm will be.\n",
        "                      gamma=0,              # default=0, Minimum loss reduction required to make a further partition on a leaf node of the tree. The larger gamma is, the more conservative the algorithm will be.\n",
        "                      subsample=0.8,        # default=1, Subsample ratio of the training instances. Setting it to 0.5 means that XGBoost would randomly sample half of the training data prior to growing trees. and this will prevent overfitting.\n",
        "                      colsample_bytree=0.8, # default=1, use all samples. subsample ratio of columns when constructing each tree. Subsampling occurs once for every tree constructed.\n",
        "                      scale_pos_weight=0.9, # default=1, Control the balance of positive and negative weights, useful for unbalanced classes. A typical value to consider: sum(negative instances) / sum(positive instances)\n",
        "                      reg_alpha=0,          # default=0, L1 regularization term on weights. Increasing this value will make model more conservative.\n",
        "                      reg_lambda=1,         # default=1, L2 regularization term on weights. Increasing this value will make model more conservative.\n",
        "                      random_state=27,      #  \n",
        "                      slient=0\n",
        "                     )\n",
        "model.fit(X_train, y_train)"
      ],
      "execution_count": 19,
      "outputs": [
        {
          "output_type": "execute_result",
          "data": {
            "text/plain": [
              "XGBClassifier(base_score=0.5, booster='gbtree', colsample_bylevel=1,\n",
              "              colsample_bynode=1, colsample_bytree=0.8, gamma=0,\n",
              "              learning_rate=0.01, max_delta_step=0, max_depth=4,\n",
              "              min_child_weight=1, missing=None, n_estimators=10, n_jobs=1,\n",
              "              nthread=None, objective='binary:logistic', random_state=27,\n",
              "              reg_alpha=0, reg_lambda=1, scale_pos_weight=0.9, seed=None,\n",
              "              silent=None, slient=0, subsample=0.8, verbosity=1)"
            ]
          },
          "metadata": {
            "tags": []
          },
          "execution_count": 19
        }
      ]
    },
    {
      "cell_type": "code",
      "metadata": {
        "id": "bY3RYovgQGb9",
        "colab_type": "code",
        "colab": {
          "base_uri": "https://localhost:8080/",
          "height": 35
        },
        "outputId": "b6fc16ee-f494-451f-f900-2559aa847fc7"
      },
      "source": [
        "y_pred = model.predict(X_test)\n",
        "print('XGBoost accuracy：%.4lf' % metrics.accuracy_score(y_test, y_pred))"
      ],
      "execution_count": 20,
      "outputs": [
        {
          "output_type": "stream",
          "text": [
            "XGBoost accuracy：0.4700\n"
          ],
          "name": "stdout"
        }
      ]
    },
    {
      "cell_type": "code",
      "metadata": {
        "id": "2qg2oZeyHapV",
        "colab_type": "code",
        "colab": {}
      },
      "source": [
        "## lightGBM\n",
        "from lightgbm import LGBMClassifier"
      ],
      "execution_count": 21,
      "outputs": []
    },
    {
      "cell_type": "code",
      "metadata": {
        "id": "POjSuLlAKK--",
        "colab_type": "code",
        "colab": {
          "base_uri": "https://localhost:8080/",
          "height": 139
        },
        "outputId": "469530fe-d6c0-42f2-d09c-0f31487b922c"
      },
      "source": [
        "model_lgb = LGBMClassifier(boosting_type='gbdt',\n",
        "                       objective='binary',  #  \n",
        "                       learning_rate=0.01,  #  \n",
        "                       n_estimators=10,     #  \n",
        "                       num_leaves=2**7,     #  \n",
        "                       min_split_gain=0,    #  \n",
        "                       subsample=0.8,       #  \n",
        "                       colsample_bytree=0.8,# \n",
        "                       scale_pos_weight=0.9,#  \n",
        "                       random_state=33,\n",
        "                       reg_alpha=0,         # L1 \n",
        "                       reg_lambda=1,        # L2 \n",
        "                      )\n",
        "model_lgb.fit(X_train, y_train)"
      ],
      "execution_count": 23,
      "outputs": [
        {
          "output_type": "execute_result",
          "data": {
            "text/plain": [
              "LGBMClassifier(boosting_type='gbdt', class_weight=None, colsample_bytree=0.8,\n",
              "               importance_type='split', learning_rate=0.01, max_depth=-1,\n",
              "               min_child_samples=20, min_child_weight=0.001, min_split_gain=0,\n",
              "               n_estimators=10, n_jobs=-1, num_leaves=128, objective='binary',\n",
              "               random_state=33, reg_alpha=0, reg_lambda=1, scale_pos_weight=0.9,\n",
              "               silent=True, subsample=0.8, subsample_for_bin=200000,\n",
              "               subsample_freq=0)"
            ]
          },
          "metadata": {
            "tags": []
          },
          "execution_count": 23
        }
      ]
    },
    {
      "cell_type": "code",
      "metadata": {
        "id": "vwN-fnhnQePD",
        "colab_type": "code",
        "colab": {
          "base_uri": "https://localhost:8080/",
          "height": 72
        },
        "outputId": "de27881c-40d4-4a3a-885b-c334c306bdaa"
      },
      "source": [
        "y_pred = model_lgb.predict(X_test)\n",
        "y_pred = [1 if x>=0.5 else 0 for x in y_pred]\n",
        "print(\"LightGBM prediction：\", y_pred)\n",
        "\n",
        "print(\"LightGBM accuracy：%.4lf\" % metrics.accuracy_score(y_test, y_pred))"
      ],
      "execution_count": 24,
      "outputs": [
        {
          "output_type": "stream",
          "text": [
            "LightGBM prediction： [1, 0, 1, 0, 1, 0, 0, 1, 1, 0, 0, 0, 0, 0, 0, 1, 0, 1, 1, 0, 0, 0, 0, 0, 0, 1, 1, 0, 0, 0, 0, 1, 1, 1, 0, 0, 1, 1, 0, 1, 0, 0, 0, 0, 0, 1, 0, 0, 1, 0, 0, 0, 0, 0, 0, 0, 1, 1, 0, 0, 1, 1, 0, 1, 0, 1, 0, 0, 0, 1, 1, 0, 0, 0, 0, 0, 0, 0, 1, 0, 1, 0, 0, 1, 1, 0, 0, 0, 1, 0, 1, 0, 0, 0, 1, 0, 0, 0, 0, 1, 0, 1, 0, 0, 0, 0, 1, 0, 0, 0, 0, 1, 0, 0, 1, 0, 0, 0, 1, 0, 1, 0, 0, 0, 0, 1, 0, 1, 0, 0, 0, 0, 0, 0, 1, 1, 0, 1, 1, 0, 0, 0, 0, 0, 0, 0, 1, 1, 0, 0, 1, 1, 0, 1, 0, 0, 0, 0, 0, 0, 0, 0, 0, 0, 0, 1, 0, 1, 1, 1, 0, 1, 0, 0, 0, 1, 0, 0, 1, 0, 0, 1, 0, 0, 0, 0, 0, 1, 0, 0, 0, 0, 0, 1, 1, 0, 1, 1, 0, 0, 1, 0, 1, 0, 0, 0, 1, 0, 0, 0, 1, 1, 1, 1, 0, 0, 1, 0, 1, 1, 0, 0, 1, 0, 0, 1, 0, 1, 0, 0, 1, 0, 0, 1, 0, 1, 0, 1, 1, 1, 0, 1, 0, 0, 0, 1, 0, 0, 1, 1, 0, 1, 1, 1, 0, 1, 0, 0, 1, 1, 1, 0, 0, 0, 1, 0, 0, 1, 0, 1, 0, 0, 0, 0, 0, 0, 0, 0, 0, 0, 0, 0, 0, 0, 1, 0, 1, 0, 1, 1, 0, 0, 1, 0, 1, 1, 1, 0, 0, 0, 0, 1, 1, 0, 0, 0, 0, 0, 1, 0, 1, 0, 1, 0, 0, 0, 1]\n",
            "LightGBM accuracy：0.5079\n"
          ],
          "name": "stdout"
        }
      ]
    },
    {
      "cell_type": "code",
      "metadata": {
        "id": "FG4nlqAXQnAR",
        "colab_type": "code",
        "colab": {}
      },
      "source": [
        ""
      ],
      "execution_count": null,
      "outputs": []
    },
    {
      "cell_type": "code",
      "metadata": {
        "id": "7GXtuwgCRb5r",
        "colab_type": "code",
        "colab": {}
      },
      "source": [
        "## CatBoost"
      ],
      "execution_count": null,
      "outputs": []
    },
    {
      "cell_type": "code",
      "metadata": {
        "id": "Kb1PsPORSAGW",
        "colab_type": "code",
        "colab": {}
      },
      "source": [
        "'''\n",
        "model = cb.CatBoostClassifier(iterations=1000,\n",
        "                             depth=7,\n",
        "                             learning_rate=0.01,\n",
        "                             loss_function='Logloss',\n",
        "                             #eval_metrics='AUC',\n",
        "                             logging_level='Verbose',\n",
        "                             metric_period=50)\n",
        "\n",
        "categorical_features_indices = []\n",
        "for i in range(len(X_train.columns)):\n",
        "    if X_train.columns.values[i] in attr:\n",
        "        categorical_features_indices.append(i)\n",
        "print(categorical_features_indices)\n",
        "\n",
        "model.fit(X_train, y_train, eval_set=(X_test y_test), cat_features=categorical_features_indices)\n",
        "predict = model.predict(X_test)\n",
        "'''"
      ],
      "execution_count": null,
      "outputs": []
    },
    {
      "cell_type": "code",
      "metadata": {
        "id": "lhMp7U9tSyM4",
        "colab_type": "code",
        "colab": {}
      },
      "source": [
        ""
      ],
      "execution_count": null,
      "outputs": []
    },
    {
      "cell_type": "code",
      "metadata": {
        "id": "ayfObhC2S4PR",
        "colab_type": "code",
        "colab": {}
      },
      "source": [
        ""
      ],
      "execution_count": null,
      "outputs": []
    }
  ]
}