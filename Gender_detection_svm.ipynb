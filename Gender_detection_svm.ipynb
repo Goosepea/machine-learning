{
  "nbformat": 4,
  "nbformat_minor": 0,
  "metadata": {
    "colab": {
      "name": "Gender_detection.ipynb",
      "provenance": [],
      "authorship_tag": "ABX9TyNHtziQhq8r7XyuuY0FHY/F",
      "include_colab_link": true
    },
    "kernelspec": {
      "name": "python3",
      "display_name": "Python 3"
    }
  },
  "cells": [
    {
      "cell_type": "markdown",
      "metadata": {
        "id": "view-in-github",
        "colab_type": "text"
      },
      "source": [
        "<a href=\"https://colab.research.google.com/github/yinma-ml/machine-learning/blob/master/Gender_detection_svm.ipynb\" target=\"_parent\"><img src=\"https://colab.research.google.com/assets/colab-badge.svg\" alt=\"Open In Colab\"/></a>"
      ]
    },
    {
      "cell_type": "code",
      "metadata": {
        "id": "WGP2Bjo2GXYP",
        "colab_type": "code",
        "colab": {}
      },
      "source": [
        "## Gender dectection based on human speech"
      ],
      "execution_count": 1,
      "outputs": []
    },
    {
      "cell_type": "markdown",
      "metadata": {
        "id": "okoEghVhJacq",
        "colab_type": "text"
      },
      "source": [
        "**svm**"
      ]
    },
    {
      "cell_type": "code",
      "metadata": {
        "id": "5VULpOP0GyiZ",
        "colab_type": "code",
        "colab": {
          "base_uri": "https://localhost:8080/",
          "height": 72
        },
        "outputId": "d2580824-dced-4e62-dd1a-7045434084c2"
      },
      "source": [
        "import pandas as pd\n",
        "from sklearn.preprocessing import LabelEncoder, StandardScaler\n",
        "from sklearn.model_selection import train_test_split\n",
        "from sklearn.svm import SVC\n",
        "from sklearn import metrics\n",
        "from sklearn.linear_model.logistic import LogisticRegression"
      ],
      "execution_count": 15,
      "outputs": [
        {
          "output_type": "stream",
          "text": [
            "/usr/local/lib/python3.6/dist-packages/sklearn/utils/deprecation.py:144: FutureWarning: The sklearn.linear_model.logistic module is  deprecated in version 0.22 and will be removed in version 0.24. The corresponding classes / functions should instead be imported from sklearn.linear_model. Anything that cannot be imported from sklearn.linear_model is now part of the private API.\n",
            "  warnings.warn(message, FutureWarning)\n"
          ],
          "name": "stderr"
        }
      ]
    },
    {
      "cell_type": "code",
      "metadata": {
        "id": "_iXN_QtQItId",
        "colab_type": "code",
        "colab": {}
      },
      "source": [
        "data = pd.read_csv('/voice.csv')  #3168 rows × 21 columns"
      ],
      "execution_count": null,
      "outputs": []
    },
    {
      "cell_type": "code",
      "metadata": {
        "id": "0420NtPRG5rM",
        "colab_type": "code",
        "colab": {
          "base_uri": "https://localhost:8080/",
          "height": 557
        },
        "outputId": "2cc9a441-0c36-4b5a-fe12-dd39c90f8901"
      },
      "source": [
        "print(data.head())\n",
        "print(data.isnull().sum())"
      ],
      "execution_count": 8,
      "outputs": [
        {
          "output_type": "stream",
          "text": [
            "   meanfreq        sd    median       Q25  ...    maxdom   dfrange   modindx  label\n",
            "0  0.059781  0.064241  0.032027  0.015071  ...  0.007812  0.000000  0.000000   male\n",
            "1  0.066009  0.067310  0.040229  0.019414  ...  0.054688  0.046875  0.052632   male\n",
            "2  0.077316  0.083829  0.036718  0.008701  ...  0.015625  0.007812  0.046512   male\n",
            "3  0.151228  0.072111  0.158011  0.096582  ...  0.562500  0.554688  0.247119   male\n",
            "4  0.135120  0.079146  0.124656  0.078720  ...  5.484375  5.476562  0.208274   male\n",
            "\n",
            "[5 rows x 21 columns]\n",
            "meanfreq    0\n",
            "sd          0\n",
            "median      0\n",
            "Q25         0\n",
            "Q75         0\n",
            "IQR         0\n",
            "skew        0\n",
            "kurt        0\n",
            "sp.ent      0\n",
            "sfm         0\n",
            "mode        0\n",
            "centroid    0\n",
            "meanfun     0\n",
            "minfun      0\n",
            "maxfun      0\n",
            "meandom     0\n",
            "mindom      0\n",
            "maxdom      0\n",
            "dfrange     0\n",
            "modindx     0\n",
            "label       0\n",
            "dtype: int64\n"
          ],
          "name": "stdout"
        }
      ]
    },
    {
      "cell_type": "code",
      "metadata": {
        "id": "HbvKvd2MHoUr",
        "colab_type": "code",
        "colab": {
          "base_uri": "https://localhost:8080/",
          "height": 69
        },
        "outputId": "b8a3c421-306f-48c4-ebee-9f54ad294ea7"
      },
      "source": [
        "print('sample:{}'.format(data.shape[0]))\n",
        "print('male：{}'.format(data[data.label=='male'].shape[0]))\n",
        "print('female：{}'.format(data[data.label=='female'].shape[0]))"
      ],
      "execution_count": 9,
      "outputs": [
        {
          "output_type": "stream",
          "text": [
            "sample:3168\n",
            "male：1584\n",
            "female：1584\n"
          ],
          "name": "stdout"
        }
      ]
    },
    {
      "cell_type": "code",
      "metadata": {
        "id": "8VeTEFncIB8f",
        "colab_type": "code",
        "colab": {
          "base_uri": "https://localhost:8080/",
          "height": 488
        },
        "outputId": "110731f8-f1eb-430d-e8c5-a9f950318634"
      },
      "source": [
        "X = data.iloc[:,:-1]  #everything except the last column\n",
        "y = data.iloc[:,-1]\n",
        "print(X.head)\n",
        "print(y.head)"
      ],
      "execution_count": 10,
      "outputs": [
        {
          "output_type": "stream",
          "text": [
            "<bound method NDFrame.head of       meanfreq        sd    median  ...    maxdom   dfrange   modindx\n",
            "0     0.059781  0.064241  0.032027  ...  0.007812  0.000000  0.000000\n",
            "1     0.066009  0.067310  0.040229  ...  0.054688  0.046875  0.052632\n",
            "2     0.077316  0.083829  0.036718  ...  0.015625  0.007812  0.046512\n",
            "3     0.151228  0.072111  0.158011  ...  0.562500  0.554688  0.247119\n",
            "4     0.135120  0.079146  0.124656  ...  5.484375  5.476562  0.208274\n",
            "...        ...       ...       ...  ...       ...       ...       ...\n",
            "3163  0.131884  0.084734  0.153707  ...  4.210938  4.203125  0.161929\n",
            "3164  0.116221  0.089221  0.076758  ...  3.679688  3.640625  0.277897\n",
            "3165  0.142056  0.095798  0.183731  ...  2.937500  2.929688  0.194759\n",
            "3166  0.143659  0.090628  0.184976  ...  3.593750  3.585938  0.311002\n",
            "3167  0.165509  0.092884  0.183044  ...  0.554688  0.546875  0.350000\n",
            "\n",
            "[3168 rows x 20 columns]>\n",
            "<bound method NDFrame.head of 0         male\n",
            "1         male\n",
            "2         male\n",
            "3         male\n",
            "4         male\n",
            "         ...  \n",
            "3163    female\n",
            "3164    female\n",
            "3165    female\n",
            "3166    female\n",
            "3167    female\n",
            "Name: label, Length: 3168, dtype: object>\n"
          ],
          "name": "stdout"
        }
      ]
    },
    {
      "cell_type": "code",
      "metadata": {
        "id": "VtVvgfr6IWD5",
        "colab_type": "code",
        "colab": {
          "base_uri": "https://localhost:8080/",
          "height": 35
        },
        "outputId": "c46e686f-4560-4456-bc78-b0747326328f"
      },
      "source": [
        "# \n",
        "lbe = LabelEncoder()\n",
        "y = lbe.fit_transform(y)\n",
        "print(y)\n",
        "\n",
        "# 处理label字段（0-1处理）\n",
        "# data['label'] = data['label'].map(lambda x:1 if x=='male' else 0)"
      ],
      "execution_count": 13,
      "outputs": [
        {
          "output_type": "stream",
          "text": [
            "[1 1 1 ... 0 0 0]\n"
          ],
          "name": "stdout"
        }
      ]
    },
    {
      "cell_type": "code",
      "metadata": {
        "id": "v99QlqANI5Ui",
        "colab_type": "code",
        "colab": {
          "base_uri": "https://localhost:8080/",
          "height": 243
        },
        "outputId": "3647c03d-d3e5-40c8-a12c-0553b109561b"
      },
      "source": [
        "# normalization\n",
        "scaler = StandardScaler()\n",
        "X = scaler.fit_transform(X)\n",
        "print(X)"
      ],
      "execution_count": 14,
      "outputs": [
        {
          "output_type": "stream",
          "text": [
            "[[-4.04924806  0.4273553  -4.22490077 ... -1.43142165 -1.41913712\n",
            "  -1.45477229]\n",
            " [-3.84105325  0.6116695  -3.99929342 ... -1.41810716 -1.4058184\n",
            "  -1.01410294]\n",
            " [-3.46306647  1.60384791 -4.09585052 ... -1.42920257 -1.41691733\n",
            "  -1.06534356]\n",
            " ...\n",
            " [-1.29877326  2.32272355 -0.05197279 ... -0.5992661  -0.58671739\n",
            "   0.17588664]\n",
            " [-1.2452018   2.012196   -0.01772849 ... -0.41286326 -0.40025537\n",
            "   1.14916112]\n",
            " [-0.51474626  2.14765111 -0.07087873 ... -1.27608595 -1.2637521\n",
            "   1.47567886]]\n"
          ],
          "name": "stdout"
        }
      ]
    },
    {
      "cell_type": "code",
      "metadata": {
        "id": "fzgq9sjhJD15",
        "colab_type": "code",
        "colab": {}
      },
      "source": [
        "# split train test sets, test size=0.1\n",
        "X_train, X_test = train_test_split(X, test_size=0.1)\n",
        "y_train, y_test = train_test_split(y, test_size=0.1)\n",
        "# X_train, X_test, y_train, y_test = train_test_split(X, y, test_size=0.2,random_seed=0.3)"
      ],
      "execution_count": 16,
      "outputs": []
    },
    {
      "cell_type": "code",
      "metadata": {
        "id": "S-1BCpC4JzLS",
        "colab_type": "code",
        "colab": {}
      },
      "source": [
        "## svc, lr"
      ],
      "execution_count": 17,
      "outputs": []
    },
    {
      "cell_type": "code",
      "metadata": {
        "id": "vZj0asQAJlNT",
        "colab_type": "code",
        "colab": {
          "base_uri": "https://localhost:8080/",
          "height": 211
        },
        "outputId": "e2871b29-8901-472b-b29e-53e2897d61db"
      },
      "source": [
        "svc = SVC()\n",
        "svc.fit(X_train, y_train)\n",
        "y_pred = svc.predict(X_test)\n",
        "print(\"SVC prediction：\", y_pred)\n",
        "print(\"SVC accuracy：\", metrics.accuracy_score(y_test, y_pred))"
      ],
      "execution_count": 18,
      "outputs": [
        {
          "output_type": "stream",
          "text": [
            "SVC prediction： [0 1 0 0 1 0 1 1 0 0 0 0 1 0 0 0 0 0 0 1 1 1 0 1 1 1 0 1 0 0 1 1 1 0 0 1 1\n",
            " 0 1 1 1 0 1 1 0 0 0 0 0 0 0 1 1 1 1 1 0 1 0 1 0 1 1 1 0 0 0 1 1 1 1 0 1 0\n",
            " 1 0 0 0 0 1 1 1 0 0 0 0 0 1 0 1 1 0 1 0 1 1 1 0 1 0 1 1 1 0 1 0 1 0 0 1 1\n",
            " 0 0 1 1 0 0 1 0 1 0 0 1 1 1 0 1 0 1 0 1 1 1 0 1 0 0 1 0 1 0 0 0 1 1 1 0 1\n",
            " 0 1 1 1 0 1 1 1 1 0 0 1 0 1 1 1 1 0 1 0 0 1 1 1 0 1 1 0 0 0 0 0 0 0 1 0 1\n",
            " 0 0 1 1 0 0 0 0 1 0 1 1 1 0 1 1 1 1 1 0 1 0 1 0 1 1 1 0 0 0 1 0 1 1 1 0 1\n",
            " 0 0 0 0 1 0 0 1 1 0 1 0 1 1 1 0 0 0 1 1 1 1 0 1 1 1 1 1 1 1 0 0 1 0 1 0 0\n",
            " 1 0 0 0 0 1 0 0 1 0 0 0 0 0 0 1 0 1 0 1 0 0 1 0 0 0 0 0 0 1 0 1 0 1 1 1 1\n",
            " 0 0 1 0 0 0 1 0 0 0 0 1 0 0 1 0 1 0 1 1 1]\n",
            "SVC accuracy： 0.4921135646687697\n"
          ],
          "name": "stdout"
        }
      ]
    },
    {
      "cell_type": "code",
      "metadata": {
        "id": "2qg2oZeyHapV",
        "colab_type": "code",
        "colab": {
          "base_uri": "https://localhost:8080/",
          "height": 211
        },
        "outputId": "1f45cc19-d6d2-4460-d878-71e918154ffb"
      },
      "source": [
        "LR = LogisticRegression()\n",
        "LR.fit(X_train, y_train)\n",
        "y_pred = LR.predict(X_test)\n",
        "print(\"LR prediction：\", y_pred)\n",
        "print(\"LR accuracy：\", metrics.accuracy_score(y_test, y_pred))"
      ],
      "execution_count": 19,
      "outputs": [
        {
          "output_type": "stream",
          "text": [
            "LR prediction： [1 1 0 0 0 0 0 1 0 0 0 1 0 1 1 0 0 0 0 1 1 1 0 1 0 1 0 1 0 0 1 1 1 0 1 1 1\n",
            " 0 0 1 1 0 1 0 1 0 1 0 0 0 1 1 1 1 1 0 1 0 0 1 1 0 0 0 0 1 1 1 1 0 1 0 1 0\n",
            " 1 0 0 1 0 1 1 1 1 1 0 0 0 0 0 1 1 0 0 0 0 0 1 0 1 1 1 1 1 0 1 0 1 0 0 1 0\n",
            " 1 1 0 1 1 0 0 0 1 0 0 1 1 1 0 1 1 1 0 1 1 1 0 1 0 0 0 1 1 1 0 0 1 0 0 0 0\n",
            " 0 1 0 1 0 0 1 1 1 0 0 0 0 1 1 1 1 0 1 0 0 0 0 1 0 1 0 0 0 0 1 1 1 0 1 0 1\n",
            " 1 0 1 0 1 0 1 1 1 0 0 1 1 1 1 1 0 1 1 0 1 0 0 1 0 1 1 0 1 0 0 0 1 1 0 0 0\n",
            " 1 0 1 0 1 0 0 1 1 1 1 0 0 1 1 1 0 1 0 1 1 1 1 1 1 1 0 0 1 1 0 0 0 1 0 0 1\n",
            " 1 0 0 0 0 1 1 1 1 0 0 1 1 0 1 1 0 1 0 0 0 0 1 0 0 1 0 1 0 0 0 1 0 0 1 0 0\n",
            " 1 0 1 1 0 0 1 1 1 0 0 1 0 0 1 1 1 0 1 1 1]\n",
            "LR accuracy： 0.45425867507886436\n"
          ],
          "name": "stdout"
        }
      ]
    },
    {
      "cell_type": "code",
      "metadata": {
        "id": "POjSuLlAKK--",
        "colab_type": "code",
        "colab": {}
      },
      "source": [
        ""
      ],
      "execution_count": null,
      "outputs": []
    }
  ]
}